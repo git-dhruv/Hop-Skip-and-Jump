{
 "cells": [
  {
   "cell_type": "code",
   "execution_count": 2,
   "metadata": {},
   "outputs": [],
   "source": [
    "\"\"\"\n",
    "@author: Dhruv Parikh, Anirudh Kailaje\n",
    "@date: 7th Nov 2023\n",
    "@file: bipedSquat.py\n",
    "@brief: Biped Does a Squat!\n",
    "Mathematically: We track the Center of Mass trajectory on z direction with constraints of both foot on ground\n",
    "\"\"\"\n",
    "import pydot\n",
    "import numpy as np\n",
    "\n",
    "from pydrake.all import Simulator, DiagramBuilder, AddMultibodyPlantSceneGraph,\\\n",
    "                        Parser, RigidTransform, MeshcatVisualizer, MeshcatVisualizerParams, \\\n",
    "                        ConstantVectorSource, ConstantValueSource, PiecewisePolynomial,\\\n",
    "                        AbstractValue, HalfSpace, CoulombFriction\n",
    "import planner\n",
    "from osc import OSC\n",
    "\n",
    "from pydrake.all import StartMeshcat, BasicVector, LogVectorOutput\n",
    "import matplotlib.pyplot as plt, datetime\n",
    "\n"
   ]
  },
  {
   "cell_type": "code",
   "execution_count": 3,
   "metadata": {},
   "outputs": [
    {
     "name": "stderr",
     "output_type": "stream",
     "text": [
      "INFO:drake:Meshcat listening for connections at http://localhost:7000\n"
     ]
    }
   ],
   "source": [
    "time = datetime.datetime.now().strftime(\"%Y-%m-%d-%H-%M-%S\")\n",
    "\n",
    "#Start the meshcat server\n",
    "meshcat = StartMeshcat()\n",
    "builder = DiagramBuilder()\n",
    "\n",
    "#### Designing our world ####\n",
    "# Add a planar walker to the simulation\n",
    "plant, scene_graph = AddMultibodyPlantSceneGraph(builder, 0.001)\n",
    "#Half space means a plane -> Ground Plane in particular\n",
    "X_WG = HalfSpace.MakePose(np.array([0,0, 1]), np.zeros(3,))\n",
    "plant.RegisterCollisionGeometry(\n",
    "    plant.world_body(), \n",
    "    X_WG, HalfSpace(), \n",
    "    \"collision\", CoulombFriction(1.0, 1.0))\n",
    "\n",
    "#Make the plant\n",
    "urdf = r\"/home/dhruv/Hop-Skip-and-Jump/models/planar_walker.urdf\"\n",
    "parser = Parser(plant)\n",
    "parser.AddModels(urdf)\n",
    "plant.WeldFrames(\n",
    "    plant.world_frame(),\n",
    "    plant.GetBodyByName(\"base\").body_frame(),\n",
    "    RigidTransform.Identity()\n",
    ")\n",
    "plant.Finalize()\n",
    "\n",
    "\n",
    "#### Designing the controller ####\n",
    "\"\"\"\n",
    "Here,\n",
    "zdes: desired squat Z height in meters\n",
    "z_height_desired: A constant source which outputs the desired Z height, given to the com_planner\n",
    "com_planner: A controller which tracks the desired Z height for the center of mass\n",
    "base_traj_src: A constant source which outputs a constant vector (No movement in the Y direction for the robot), given to the osc\n",
    "osc: The operational space controller which tracks the desired Z height and the base_traj_src\n",
    "\"\"\"\n",
    "zdes = 0.8 #desired Z height in meters\n",
    "z_height_desired = builder.AddSystem(ConstantVectorSource(np.array([zdes])))\n",
    "com_planner = builder.AddSystem(planner.COMPlanner())\n",
    "base_traj_src = builder.AddSystem(ConstantValueSource(AbstractValue.Make(BasicVector(np.zeros(1,)))))\n",
    "osc_accessor = OSC(urdf)\n",
    "osc = builder.AddSystem(osc_accessor)\n",
    "\n",
    "#### Wiring ####\n",
    "#COM wiring\n",
    "builder.Connect(z_height_desired.get_output_port(), com_planner.get_com_zdes_input_port())\n",
    "builder.Connect(plant.get_state_output_port(), com_planner.get_com_state_input_port())\n",
    "# OSC wiring\n",
    "builder.Connect(com_planner.get_com_traj_output_port(), osc.get_traj_input_port(\"COM\"))\n",
    "builder.Connect(base_traj_src.get_output_port(), osc.get_traj_input_port(\"torso\"))\n",
    "builder.Connect(plant.get_state_output_port(), osc.get_state_input_port()) \n",
    "builder.Connect(osc.torque_output_port, plant.get_actuation_input_port())\n",
    "logger = LogVectorOutput(osc.GetOutputPort(\"logs\"),builder, publish_period=0.1)\n",
    "\n",
    "\n",
    "# Add the visualizer\n",
    "vis_params = MeshcatVisualizerParams(publish_period=0.0005)\n",
    "MeshcatVisualizer.AddToBuilder(builder, scene_graph, meshcat, params=vis_params)\n",
    "#simulate\n",
    "diagram = builder.Build()\n",
    "graph = (pydot.graph_from_dot_data(diagram.GetGraphvizString(max_depth=2))[0].create_svg())\n",
    "# with f as open(\"graph.svg\", \"w\"):\n",
    "#     f.write(graph)\n",
    "################\n",
    "\n"
   ]
  },
  {
   "cell_type": "code",
   "execution_count": 4,
   "metadata": {},
   "outputs": [
    {
     "ename": "KeyboardInterrupt",
     "evalue": "",
     "output_type": "error",
     "traceback": [
      "\u001b[0;31m---------------------------------------------------------------------------\u001b[0m",
      "\u001b[0;31mKeyboardInterrupt\u001b[0m                         Traceback (most recent call last)",
      "\u001b[1;32m/home/dhruv/Hop-Skip-and-Jump/controller/osc_tested.ipynb Cell 3\u001b[0m line \u001b[0;36m1\n\u001b[1;32m     <a href='vscode-notebook-cell://wsl%2Bubuntu/home/dhruv/Hop-Skip-and-Jump/controller/osc_tested.ipynb#W2sdnNjb2RlLXJlbW90ZQ%3D%3D?line=13'>14</a>\u001b[0m plant\u001b[39m.\u001b[39mSetPositions(plant_context, q)\n\u001b[1;32m     <a href='vscode-notebook-cell://wsl%2Bubuntu/home/dhruv/Hop-Skip-and-Jump/controller/osc_tested.ipynb#W2sdnNjb2RlLXJlbW90ZQ%3D%3D?line=15'>16</a>\u001b[0m \u001b[39m# Simulate the robot\u001b[39;00m\n\u001b[0;32m---> <a href='vscode-notebook-cell://wsl%2Bubuntu/home/dhruv/Hop-Skip-and-Jump/controller/osc_tested.ipynb#W2sdnNjb2RlLXJlbW90ZQ%3D%3D?line=16'>17</a>\u001b[0m simulator\u001b[39m.\u001b[39;49mAdvanceTo(sim_time)\n",
      "File \u001b[0;32m~/Hop-Skip-and-Jump/controller/osc.py:197\u001b[0m, in \u001b[0;36mOSC.CalcTorques\u001b[0;34m(self, context, output)\u001b[0m\n\u001b[1;32m    195\u001b[0m \u001b[39mdef\u001b[39;00m \u001b[39mCalcTorques\u001b[39m(\u001b[39mself\u001b[39m, context: Context, output: BasicVector) \u001b[39m-\u001b[39m\u001b[39m>\u001b[39m \u001b[39mNone\u001b[39;00m:\n\u001b[1;32m    196\u001b[0m     usol \u001b[39m=\u001b[39m \u001b[39mself\u001b[39m\u001b[39m.\u001b[39msolveQP(context)\n\u001b[0;32m--> 197\u001b[0m     output\u001b[39m.\u001b[39;49mSetFromVector(usol)\n",
      "\u001b[0;31mKeyboardInterrupt\u001b[0m: "
     ]
    }
   ],
   "source": [
    "sim_time = 15\n",
    "simulator = Simulator(diagram)\n",
    "simulator.Initialize(); simulator.set_target_realtime_rate(1)\n",
    "\n",
    "# State Description: q = [x, z, planar_roty, left_hip, left_knee, right_hip, right_knee]\n",
    "plant_context = diagram.GetMutableSubsystemContext(plant, simulator.get_mutable_context())\n",
    "\n",
    "q = np.zeros((plant.num_positions(),))\n",
    "q[0] = 0; q[1] = 1; q[2] = 1e-1\n",
    "theta = -1 #-np.arccos(q[1])\n",
    "q[3] = -theta; q[4] = 2 * theta/1.2\n",
    "q[5] = theta;   q[6] = -2 * theta/1.2\n",
    "q[1] = 0.71\n",
    "plant.SetPositions(plant_context, q)\n",
    "\n",
    "# Simulate the robot\n",
    "simulator.AdvanceTo(sim_time)\n",
    "\n"
   ]
  },
  {
   "cell_type": "code",
   "execution_count": null,
   "metadata": {},
   "outputs": [],
   "source": [
    "## Logs and Plots ##\n",
    "log = logger.FindLog(simulator.get_mutable_context()) #xyz vxvyvz\n",
    "t = log.sample_times()\n",
    "x = log.data()[:,20:]\n",
    "\n"
   ]
  },
  {
   "cell_type": "code",
   "execution_count": null,
   "metadata": {},
   "outputs": [],
   "source": [
    "COM_POS, COM_VEL, T_POS, T_VEL, left, right, COM_POS_DESIRED, COM_VEL_DESIRED, Torso_POS_DESIRED, Torso_VEL_DESIRED, Ft_POS_DESIRED, Ft_POS_DESIRED =  osc_accessor.logParse(x)"
   ]
  },
  {
   "cell_type": "markdown",
   "metadata": {},
   "source": [
    "# Plotting Logs"
   ]
  },
  {
   "cell_type": "code",
   "execution_count": null,
   "metadata": {},
   "outputs": [],
   "source": [
    "import matplotlib.pyplot as plt\n",
    "import numpy as np\n",
    "\n",
    "\n",
    "# Function to create subplots for 3D data\n",
    "def plot_3d_data(ax, data, label, linestyle='-'):\n",
    "    ax.plot(data[0, :], label=f'{label} - X', linestyle=linestyle)\n",
    "    ax.plot(data[1, :], label=f'{label} - Y', linestyle=linestyle)\n",
    "    ax.plot(data[2, :], label=f'{label} - Z', linestyle=linestyle)\n",
    "\n",
    "# Create subplots\n",
    "fig, axs = plt.subplots(6, 1, figsize=(10, 20))\n",
    "\n",
    "# Plotting each pair of actual and desired values\n",
    "plot_3d_data(axs[0], COM_POS, 'COM_POS')\n",
    "plot_3d_data(axs[0], COM_POS_DESIRED, 'COM_POS_DESIRED', '--')\n",
    "axs[0].set_title('Center of Mass Position')\n",
    "axs[0].legend()\n",
    "\n",
    "plot_3d_data(axs[1], COM_VEL, 'COM_POS')\n",
    "plot_3d_data(axs[1], COM_VEL_DESIRED, 'COM_POS_DESIRED', '--')\n",
    "axs[1].set_title('Center of Mass Velocity')\n",
    "axs[1].legend()\n",
    "\n",
    "axs[2].plot(T_POS[0], label = 'T_POS')\n",
    "axs[2].plot(Torso_POS_DESIRED[0], label='Torso_POS_DESIRED', linestyle='--')\n",
    "axs[2].set_title('Torso Position')\n",
    "axs[2].legend()\n",
    "\n",
    "axs[3].plot(T_VEL[0], label='T_VEL')\n",
    "axs[3].plot(Torso_VEL_DESIRED[0], label='Torso_VEL_DESIRED', linestyle='--')\n",
    "axs[3].set_title('Torso Velocity')\n",
    "axs[3].legend()\n",
    "\n",
    "plot_3d_data(axs[4], left, 'Left')\n",
    "# plot_3d_data(axs[4], Ft_POS_DESIRED, 'Ft_POS_DESIRED', '--')\n",
    "axs[4].set_title('Left and Desired Foot Position')\n",
    "axs[4].legend()\n",
    "\n",
    "plot_3d_data(axs[5], right, 'Right')\n",
    "# plot_3d_data(axs[5], Ft_POS_DESIRED, 'Ft_POS_DESIRED', '--')\n",
    "axs[5].set_title('Right and Desired Foot Position')\n",
    "axs[5].legend()\n",
    "\n",
    "plt.tight_layout()\n",
    "plt.show()\n"
   ]
  },
  {
   "cell_type": "code",
   "execution_count": null,
   "metadata": {},
   "outputs": [],
   "source": []
  }
 ],
 "metadata": {
  "kernelspec": {
   "display_name": "Python 3",
   "language": "python",
   "name": "python3"
  },
  "language_info": {
   "codemirror_mode": {
    "name": "ipython",
    "version": 3
   },
   "file_extension": ".py",
   "mimetype": "text/x-python",
   "name": "python",
   "nbconvert_exporter": "python",
   "pygments_lexer": "ipython3",
   "version": "3.10.12"
  }
 },
 "nbformat": 4,
 "nbformat_minor": 2
}
