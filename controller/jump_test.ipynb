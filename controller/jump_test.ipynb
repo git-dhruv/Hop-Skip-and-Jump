{
 "cells": [
  {
   "cell_type": "code",
   "execution_count": 1,
   "metadata": {},
   "outputs": [],
   "source": [
    "import pydot\n",
    "import numpy as np\n",
    "\n",
    "from pydrake.all import Simulator, DiagramBuilder, AddMultibodyPlantSceneGraph,\\\n",
    "                        Parser, RigidTransform, MeshcatVisualizer, MeshcatVisualizerParams, \\\n",
    "                        ConstantVectorSource, ConstantValueSource, PiecewisePolynomial,\\\n",
    "                        AbstractValue, HalfSpace, CoulombFriction\n",
    "import planner\n",
    "from osc import OSC\n",
    "\n",
    "from pydrake.all import StartMeshcat, BasicVector, LogVectorOutput\n",
    "import matplotlib.pyplot as plt, datetime"
   ]
  },
  {
   "cell_type": "code",
   "execution_count": 2,
   "metadata": {},
   "outputs": [
    {
     "name": "stderr",
     "output_type": "stream",
     "text": [
      "INFO:drake:Meshcat listening for connections at http://localhost:7000\n"
     ]
    }
   ],
   "source": [
    "#Start the meshcat server\n",
    "meshcat = StartMeshcat()\n",
    "builder = DiagramBuilder()\n",
    "\n",
    "#### Designing our world ####\n",
    "# Add a planar walker to the simulation\n",
    "plant, scene_graph = AddMultibodyPlantSceneGraph(builder, 0.0005)\n",
    "#Half space means a plane -> Ground Plane in particular\n",
    "X_WG = HalfSpace.MakePose(np.array([0,0, 1]), np.zeros(3,))\n",
    "plant.RegisterCollisionGeometry(\n",
    "    plant.world_body(), \n",
    "    X_WG, HalfSpace(), \n",
    "    \"collision\", CoulombFriction(1.0, 1.0))\n",
    "\n",
    "#Make the plant\n",
    "urdf = r\"/home/dhruv/Hop-Skip-and-Jump/models/planar_walker.urdf\"\n",
    "parser = Parser(plant)\n",
    "parser.AddModels(urdf)\n",
    "plant.WeldFrames(\n",
    "    plant.world_frame(),\n",
    "    plant.GetBodyByName(\"base\").body_frame(),\n",
    "    RigidTransform.Identity()\n",
    ")\n",
    "plant.Finalize()"
   ]
  },
  {
   "cell_type": "code",
   "execution_count": 3,
   "metadata": {},
   "outputs": [],
   "source": [
    "u = builder.AddSystem(ConstantVectorSource((np.zeros((4,)) )))\n",
    "builder.Connect(u.get_output_port(), plant.get_actuation_input_port())\n"
   ]
  },
  {
   "cell_type": "code",
   "execution_count": 4,
   "metadata": {},
   "outputs": [],
   "source": [
    "vis_params = MeshcatVisualizerParams(publish_period=0.0005)\n",
    "MeshcatVisualizer.AddToBuilder(builder, scene_graph, meshcat, params=vis_params)\n",
    "diagram = builder.Build()\n"
   ]
  },
  {
   "cell_type": "code",
   "execution_count": 5,
   "metadata": {},
   "outputs": [],
   "source": [
    "sim_time = 1\n",
    "simulator = Simulator(diagram)\n",
    "simulator.Initialize(); simulator.set_target_realtime_rate(.1)\n",
    "plant_context = diagram.GetMutableSubsystemContext(plant, simulator.get_mutable_context())\n",
    "\n",
    "q = np.zeros((plant.num_positions(),))\n",
    "q[0] = 0; q[1] = 0.8\n",
    "theta = -np.arccos(q[1])\n",
    "q[3] = theta; q[4] = -2 * theta\n",
    "q[5] = theta;   q[6] = -2 * theta\n",
    "plant.SetPositions(plant_context, q)\n",
    "\n",
    "\n"
   ]
  },
  {
   "cell_type": "code",
   "execution_count": 6,
   "metadata": {},
   "outputs": [
    {
     "ename": "RuntimeError",
     "evalue": "MultibodyPlant's discrete update solver failed to converge at simulation time = 0.7030000000000001 with discrete update period = 0.0005. This usually means that the plant's discrete update period is too large to resolve the system's dynamics for the given simulation conditions. This is often the case during abrupt collisions or during complex and fast changing contact configurations. Another common cause is the use of high gains in the simulation of closed loop systems. These might cause numerical instabilities given our discrete solver uses an explicit treatment of actuation inputs. Possible solutions include:\n  1. reduce the discrete update period set at construction,\n  2. decrease the high gains in your controller whenever possible,\n  3. switch to a continuous model (discrete update period is zero),      though this might affect the simulation run time.",
     "output_type": "error",
     "traceback": [
      "\u001b[0;31m---------------------------------------------------------------------------\u001b[0m",
      "\u001b[0;31mRuntimeError\u001b[0m                              Traceback (most recent call last)",
      "\u001b[1;32m/home/dhruv/Hop-Skip-and-Jump/controller/jump_test.ipynb Cell 6\u001b[0m line \u001b[0;36m9\n\u001b[1;32m      <a href='vscode-notebook-cell://wsl%2Bubuntu/home/dhruv/Hop-Skip-and-Jump/controller/jump_test.ipynb#W5sdnNjb2RlLXJlbW90ZQ%3D%3D?line=5'>6</a>\u001b[0m state[\u001b[39m7\u001b[39m\u001b[39m+\u001b[39m\u001b[39m1\u001b[39m] \u001b[39m=\u001b[39m vel\n\u001b[1;32m      <a href='vscode-notebook-cell://wsl%2Bubuntu/home/dhruv/Hop-Skip-and-Jump/controller/jump_test.ipynb#W5sdnNjb2RlLXJlbW90ZQ%3D%3D?line=6'>7</a>\u001b[0m plant\u001b[39m.\u001b[39mSetPositionsAndVelocities(plant_context, state)\n\u001b[0;32m----> <a href='vscode-notebook-cell://wsl%2Bubuntu/home/dhruv/Hop-Skip-and-Jump/controller/jump_test.ipynb#W5sdnNjb2RlLXJlbW90ZQ%3D%3D?line=8'>9</a>\u001b[0m simulator\u001b[39m.\u001b[39;49mAdvanceTo(sim_time)\n",
      "\u001b[0;31mRuntimeError\u001b[0m: MultibodyPlant's discrete update solver failed to converge at simulation time = 0.7030000000000001 with discrete update period = 0.0005. This usually means that the plant's discrete update period is too large to resolve the system's dynamics for the given simulation conditions. This is often the case during abrupt collisions or during complex and fast changing contact configurations. Another common cause is the use of high gains in the simulation of closed loop systems. These might cause numerical instabilities given our discrete solver uses an explicit treatment of actuation inputs. Possible solutions include:\n  1. reduce the discrete update period set at construction,\n  2. decrease the high gains in your controller whenever possible,\n  3. switch to a continuous model (discrete update period is zero),      though this might affect the simulation run time."
     ]
    }
   ],
   "source": [
    "\n",
    "q1 = np.zeros((plant.num_positions() + plant.num_velocities(),))\n",
    "q1[:7] = q\n",
    "h = 0.2\n",
    "vel = np.sqrt(2*9.81*h)\n",
    "state = q1\n",
    "state[7+1] = vel\n",
    "plant.SetPositionsAndVelocities(plant_context, state)\n",
    "\n",
    "simulator.AdvanceTo(sim_time)\n"
   ]
  }
 ],
 "metadata": {
  "kernelspec": {
   "display_name": "Python 3",
   "language": "python",
   "name": "python3"
  },
  "language_info": {
   "codemirror_mode": {
    "name": "ipython",
    "version": 3
   },
   "file_extension": ".py",
   "mimetype": "text/x-python",
   "name": "python",
   "nbconvert_exporter": "python",
   "pygments_lexer": "ipython3",
   "version": "3.10.12"
  }
 },
 "nbformat": 4,
 "nbformat_minor": 2
}
