{
 "cells": [
  {
   "cell_type": "code",
   "execution_count": 1,
   "metadata": {},
   "outputs": [],
   "source": [
    "import numpy as np\n",
    "from pydrake.all import Simulator, DiagramBuilder, AddMultibodyPlantSceneGraph,\\\n",
    "                        Parser, RigidTransform, MeshcatVisualizer, MeshcatVisualizerParams, \\\n",
    "                        ConstantVectorSource, ConstantValueSource, PiecewisePolynomial,\\\n",
    "                        AbstractValue, HalfSpace, CoulombFriction\n",
    "from pydrake.all import StartMeshcat, BasicVector, LogVectorOutput\n",
    "import matplotlib.pyplot as plt, datetime\n",
    "import pydot"
   ]
  },
  {
   "cell_type": "code",
   "execution_count": 2,
   "metadata": {},
   "outputs": [],
   "source": [
    "from preflight import dircol\n",
    "from flight import flight\n",
    "from landing import landing\n",
    "from phase_switch import PhaseSwitch\n",
    "from osc_modified import OperationalSpaceWalkingController"
   ]
  },
  {
   "cell_type": "markdown",
   "metadata": {},
   "source": [
    "# System Setup\n",
    "\n",
    "DIRCOL Gives COM trajectory. OSC takes Desired trajectory and tracks it.  "
   ]
  },
  {
   "cell_type": "code",
   "execution_count": 5,
   "metadata": {},
   "outputs": [
    {
     "name": "stderr",
     "output_type": "stream",
     "text": [
      "INFO:drake:Meshcat listening for connections at http://localhost:7000\n"
     ]
    }
   ],
   "source": [
    "#Start the meshcat server\n",
    "meshcat = StartMeshcat(); builder = DiagramBuilder()\n",
    "\n",
    "#### Designing our world ####\n",
    "# Add a planar walker to the simulation\n",
    "plant, scene_graph = AddMultibodyPlantSceneGraph(builder, 0.0005)\n",
    "#Half space means a plane -> Ground Plane in particular\n",
    "X_WG = HalfSpace.MakePose(np.array([0,0, 1]), np.zeros(3,))\n",
    "plant.RegisterCollisionGeometry(plant.world_body(), X_WG, HalfSpace(), \n",
    "    \"collision\", CoulombFriction(1.0, 1.0))\n",
    "\n",
    "#Make the plant\n",
    "parser = Parser(plant)\n",
    "parser.AddModels(\"../models/planar_walker.urdf\")\n",
    "plant.WeldFrames(plant.world_frame(),\n",
    "    plant.GetBodyByName(\"base\").body_frame(),\n",
    "    RigidTransform.Identity())\n",
    "plant.Finalize()\n",
    "\n",
    "\n",
    "#### Designing the controller ####\n",
    "zdes = 1.5 #desired Z height in meters\n",
    "z_height_desired = builder.AddSystem(ConstantVectorSource(np.array([zdes])))\n",
    "jump_time = builder.AddSystem(ConstantVectorSource(np.array([2.5])))\n",
    "\n",
    "preflight_planner = builder.AddSystem(dircol())\n",
    "osc = builder.AddSystem(OperationalSpaceWalkingController())\n",
    "\n",
    "## Logger ##\n",
    "logger = LogVectorOutput(osc.GetOutputPort(\"metrics\"),builder)\n",
    "\n",
    "#### Wiring ####\n",
    "\n",
    "#DIRCOL wiring\n",
    "builder.Connect(z_height_desired.get_output_port(), preflight_planner.get_com_input_port())\n",
    "builder.Connect(jump_time.get_output_port(), preflight_planner.get_time_input_port())\n",
    "builder.Connect(plant.get_state_output_port(), preflight_planner.get_state_input_port())\n",
    "\n",
    "#DIRCOL OUT -> OSC IN\n",
    "builder.Connect(preflight_planner.get_com_output_port(), osc.get_traj_input_port(\"com_traj\"))\n",
    "builder.Connect(plant.get_state_output_port(), osc.get_state_input_port()) \n",
    "builder.Connect(osc.torque_output_port, plant.get_actuation_input_port())\n",
    "\n",
    "# Add the visualizer\n",
    "vis_params = MeshcatVisualizerParams(publish_period=0.0005)\n",
    "MeshcatVisualizer.AddToBuilder(builder, scene_graph, meshcat, params=vis_params)\n",
    "\n",
    "#simulate\n",
    "diagram = builder.Build()\n",
    "graph = (pydot.graph_from_dot_data(diagram.GetGraphvizString(max_depth=2))[0].create_svg())\n",
    "\n",
    "with open('graph.svg', 'wb') as f:\n",
    "    f.write(graph)"
   ]
  },
  {
   "cell_type": "markdown",
   "metadata": {},
   "source": [
    "# s\n"
   ]
  },
  {
   "cell_type": "code",
   "execution_count": null,
   "metadata": {},
   "outputs": [],
   "source": []
  }
 ],
 "metadata": {
  "kernelspec": {
   "display_name": "Python 3",
   "language": "python",
   "name": "python3"
  },
  "language_info": {
   "codemirror_mode": {
    "name": "ipython",
    "version": 3
   },
   "file_extension": ".py",
   "mimetype": "text/x-python",
   "name": "python",
   "nbconvert_exporter": "python",
   "pygments_lexer": "ipython3",
   "version": "3.10.12"
  }
 },
 "nbformat": 4,
 "nbformat_minor": 2
}
