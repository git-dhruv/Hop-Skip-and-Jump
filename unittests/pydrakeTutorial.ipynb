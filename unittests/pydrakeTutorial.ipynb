{
 "cells": [
  {
   "cell_type": "markdown",
   "metadata": {},
   "source": [
    "Disclaimer:\n",
    "\n",
    "This is a coarse version of a tutorial. A lot of things are wrong. But they will be refined as we move."
   ]
  },
  {
   "cell_type": "code",
   "execution_count": 3,
   "metadata": {},
   "outputs": [],
   "source": [
    "import numpy as np\n",
    "import matplotlib.pyplot as plt\n",
    "from pydrake.all import (\n",
    "    MultibodyPlant,\n",
    "    AddMultibodyPlantSceneGraph,\n",
    "    DiagramBuilder,\n",
    "    Parser,\n",
    "    VectorSystem,\n",
    "    VectorLogSink,\n",
    "    Simulator,\n",
    "    PlanarSceneGraphVisualizer,\n",
    "    Multiplexer,\n",
    "    plot_system_graphviz,\n",
    "    MatrixGain,\n",
    "    MeshcatVisualizer,\n",
    "    StartMeshcat\n",
    "    )"
   ]
  },
  {
   "cell_type": "markdown",
   "metadata": {},
   "source": [
    "Think of pydrake as simulink. Each block will have an input and output port. We need to specify these things to define a robot or a block. \n",
    "\n",
    "Leafsystem: A template wrapper for each block. More on that later. \n",
    "Context: All information of the simulation environment at current timestep. \n",
    "BasicVector: Like C++ vector, drake needs that format\n",
    "\n",
    "Basics of simulation are as follows:\n",
    "- Build few blocks and specify i/o ports\n",
    "- Build a diagram, where you specify the connections between blocks\n",
    "- Now you can add that diagram to the simulator. Get context from it and set state/advance whatever."
   ]
  },
  {
   "cell_type": "code",
   "execution_count": 9,
   "metadata": {},
   "outputs": [
    {
     "name": "stdout",
     "output_type": "stream",
     "text": [
      "[[1.         0.8        0.64       0.512      0.4096     0.32768\n",
      "  0.262144   0.2097152  0.16777216 0.13421773 0.10737418]]\n"
     ]
    },
    {
     "data": {
      "image/png": "[encoded data removed]",
      "text/plain": [
       "<Figure size 640x480 with 1 Axes>"
      ]
     },
     "metadata": {},
     "output_type": "display_data"
    }
   ],
   "source": [
    "from pydrake.all import (LeafSystem, BasicVector, ConstantVectorSource, LogVectorOutput)\n",
    "\n",
    "class sinFunctionSimulator(LeafSystem):\n",
    "    def __init__(self):\n",
    "        LeafSystem.__init__(self)\n",
    "        states = 1\n",
    "        num_in = 1\n",
    "        num_out = 1 \n",
    "        #Define Num States\n",
    "        self.DeclareDiscreteState(states)\n",
    "        #Define num input\n",
    "        self.DeclareVectorInputPort(\"u\", BasicVector(num_in))\n",
    "        #Define num out\n",
    "        self.DeclareVectorOutputPort(\"y\", BasicVector(num_in), self.cbOut)\n",
    "        self.DeclarePeriodicDiscreteUpdateEvent(\n",
    "            period_sec=1.0,  # One second time step.\n",
    "            offset_sec=0.0,  # The first event is at time zero.\n",
    "            update=self.Update) # Call the Update method defined below.\n",
    "\n",
    "\n",
    "    def Update(self, context, discrete_state):\n",
    "        #Get current state in np format\n",
    "        x = context.get_discrete_state_vector().CopyToVector()\n",
    "        #x[n+1] = 0.8x\n",
    "        xnext = 0.8*x\n",
    "        #Update the current State\n",
    "        discrete_state.get_mutable_vector().SetFromVector(xnext)\n",
    "    \n",
    "    def cbOut(self, context, output):\n",
    "        output.SetFromVector(context.get_discrete_state_vector().CopyToVector())\n",
    "\n",
    "\n",
    "## Simulation Procedure\n",
    "builder = DiagramBuilder()\n",
    "sys = builder.AddSystem(sinFunctionSimulator())\n",
    "stepINput = builder.AddSystem(ConstantVectorSource([1]))\n",
    "builder.Connect(stepINput.get_output_port(0), sys.get_input_port(0))\n",
    "logger = LogVectorOutput(sys.get_output_port(0), builder)\n",
    "diagram = builder.Build()\n",
    "\n",
    "context = diagram.CreateDefaultContext()\n",
    "context.SetDiscreteState([1])\n",
    "simulator = Simulator(diagram, context)\n",
    "simulator.AdvanceTo(10)\n",
    "log = logger.FindLog(context)\n",
    "plt.figure()\n",
    "plt.plot(log.sample_times(),log.data().transpose())\n",
    "plt.show()"
   ]
  }
 ],
 "metadata": {
  "kernelspec": {
   "display_name": "Python 3",
   "language": "python",
   "name": "python3"
  },
  "language_info": {
   "codemirror_mode": {
    "name": "ipython",
    "version": 3
   },
   "file_extension": ".py",
   "mimetype": "text/x-python",
   "name": "python",
   "nbconvert_exporter": "python",
   "pygments_lexer": "ipython3",
   "version": "3.10.12"
  }
 },
 "nbformat": 4,
 "nbformat_minor": 2
}
