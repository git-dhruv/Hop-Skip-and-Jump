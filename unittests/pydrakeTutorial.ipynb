{
 "cells": [
  {
   "cell_type": "markdown",
   "metadata": {},
   "source": [
    "Disclaimer:\n",
    "\n",
    "This is a coarse version of a tutorial. A lot of things are wrong. But they will be refined as we move."
   ]
  },
  {
   "cell_type": "code",
   "execution_count": null,
   "metadata": {},
   "outputs": [],
   "source": [
    "import numpy as np\n",
    "import matplotlib.pyplot as plt\n",
    "from pydrake.all import (\n",
    "    MultibodyPlant,\n",
    "    AddMultibodyPlantSceneGraph,\n",
    "    DiagramBuilder,\n",
    "    Parser,\n",
    "    VectorSystem,\n",
    "    VectorLogSink,\n",
    "    Simulator,\n",
    "    PlanarSceneGraphVisualizer,\n",
    "    Multiplexer,\n",
    "    plot_system_graphviz,\n",
    "    MatrixGain,\n",
    "    MeshcatVisualizer,\n",
    "    StartMeshcat\n",
    "    )"
   ]
  },
  {
   "cell_type": "markdown",
   "metadata": {},
   "source": [
    "Think of pydrake as simulink. Each block will have an input and output port. We need to specify these things to define a robot or a block. \n",
    "\n",
    "Leafsystem: A template wrapper for each block. More on that later. \n",
    "Context: All information of the simulation environment at current timestep. \n",
    "BasicVector: Like C++ vector, drake needs that format"
   ]
  },
  {
   "cell_type": "code",
   "execution_count": null,
   "metadata": {},
   "outputs": [],
   "source": [
    "from pydrake.all import LeafSystem\n",
    "class StaticSys(LeafSystem):\n",
    "    def __init__(self, inputs):\n",
    "        LeafSystem.__init__(self)\n",
    "        self.DeclareVectorInputPort(\"u1\", SetFromVector(num_input1)) #function that converts np to BasicVector\n",
    "        self.DeclareVectorInputPort(\"u1\", SetFromVector(num_input2))\n",
    "        self.DeclareVectorOutputPort(\"y\", SetFromVector(num_output), self.cboutput)\n",
    "    def cboutput(self, context, output):\n",
    "        u1 = self.get_input_port(0).Eval(context)\n",
    "        u2 = self.get_input_port(1).Eval(context)\n",
    "        y = \n"
   ]
  }
 ],
 "metadata": {
  "language_info": {
   "name": "python"
  }
 },
 "nbformat": 4,
 "nbformat_minor": 2
}
