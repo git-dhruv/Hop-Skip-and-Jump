{
 "cells": [
  {
   "cell_type": "code",
   "execution_count": 1,
   "metadata": {},
   "outputs": [
    {
     "name": "stderr",
     "output_type": "stream",
     "text": [
      "INFO:drake:Meshcat listening for connections at http://localhost:7001\n"
     ]
    },
    {
     "name": "stdout",
     "output_type": "stream",
     "text": [
      "Starting the solve\n",
      "optimal cost:  49390.24512964907\n",
      "x_sol:  [[-0.000e+00  9.500e-01  0.000e+00 -3.200e-01  6.400e-01 -3.200e-01\n",
      "   6.400e-01  0.000e+00 -0.000e+00 -0.000e+00  0.000e+00  0.000e+00\n",
      "  -0.000e+00  0.000e+00]\n",
      " [-0.000e+00  9.400e-01  0.000e+00 -3.600e-01  7.200e-01 -3.900e-01\n",
      "   7.600e-01 -5.000e-02 -3.400e-01 -7.000e-02 -2.680e+00  5.120e+00\n",
      "  -5.230e+00  1.019e+01]\n",
      " [-0.000e+00  9.100e-01 -0.000e+00 -4.600e-01  9.200e-01 -6.800e-01\n",
      "   1.350e+00 -2.000e-02 -9.000e-01  2.000e-02 -2.120e+00  4.230e+00\n",
      "  -5.010e+00  9.770e+00]\n",
      " [-0.000e+00  8.400e-01  0.000e+00 -6.600e-01  1.280e+00 -9.000e-01\n",
      "   1.760e+00 -3.000e-02 -1.450e+00 -2.000e-02 -5.070e+00  7.370e+00\n",
      "  -2.290e+00  3.950e+00]\n",
      " [-0.000e+00  7.700e-01 -0.000e+00 -9.400e-01  1.620e+00 -1.030e+00\n",
      "   1.990e+00  0.000e+00 -1.190e+00  4.000e-02 -2.820e+00  5.040e+00\n",
      "  -4.550e+00  8.260e+00]\n",
      " [-0.000e+00  6.800e-01  0.000e+00 -1.110e+00  1.890e+00 -1.490e+00\n",
      "   2.550e+00 -1.000e-02 -1.850e+00 -1.300e-01 -6.760e+00  8.970e+00\n",
      "  -1.124e+01  7.530e+00]\n",
      " [-0.000e+00  6.000e-01 -0.000e+00 -1.810e+00  2.690e+00 -2.060e+00\n",
      "   2.720e+00  1.000e-01 -1.060e+00 -1.000e-01 -1.941e+01  1.251e+01\n",
      "  -5.920e+00  7.200e-01]\n",
      " [ 1.000e-02  6.600e-01 -0.000e+00 -2.810e+00  2.950e+00 -2.270e+00\n",
      "   2.420e+00  1.600e-01  3.120e+00  3.900e-01 -6.510e+00 -9.000e-02\n",
      "  -5.430e+00 -1.696e+01]\n",
      " [ 1.000e-02  8.300e-01  0.000e+00 -2.360e+00  2.890e+00 -2.370e+00\n",
      "   1.230e+00  5.000e-02  3.120e+00  8.700e-01  1.527e+01 -3.920e+00\n",
      "   4.040e+00 -1.464e+01]\n",
      " [ 2.000e-02  1.000e+00  8.000e-02 -1.110e+00  1.860e+00 -1.880e+00\n",
      "   2.500e-01  4.300e-01  3.120e+00  2.420e+00  4.252e+01 -8.672e+01\n",
      "   3.181e+01 -9.610e+01]]\n",
      "u_sol:  [[-63.  52. -61.   4.]\n",
      " [ 15.  -3.   2.   1.]\n",
      " [ -6.   4.   1.   1.]\n",
      " [-18.  15.  -2.  -3.]\n",
      " [ 37. -30.   5.   8.]\n",
      " [-35.  -0.  14.  -1.]\n",
      " [-26.  36.   7.  -6.]\n",
      " [ 98. -34. -22. -13.]\n",
      " [  1.  54.  -2.  25.]\n",
      " [128.  -7. -86. -39.]]\n",
      "3.1315571206669692\n",
      "3.1215571206669694\n",
      "SolutionResult.kIterationLimit\n",
      "Direct Collocation Completed\n"
     ]
    }
   ],
   "source": [
    "from pydrake.all import StartMeshcat, MeshcatVisualizer, AddMultibodyPlantSceneGraph, HalfSpace, CoulombFriction, MeshcatVisualizerParams, ConstantValueSource, LogVectorOutput\n",
    "import matplotlib.pyplot as plt\n",
    "import numpy as np\n",
    "import time\n",
    "from pydrake.math import RigidTransform\n",
    "from pydrake.all import DiagramBuilder, Simulator, Parser\n",
    "from direct_col_dev import find_throwing_trajectory\n",
    "from phase_switch import *\n",
    "from osc import *\n",
    "import pydot\n",
    "\n",
    "### Parameters ###\n",
    "file_name = \"/home/dhruv/Hop-Skip-and-Jump/models/planar_walker.urdf\"\n",
    "\n",
    "# DIRCOL Parameters #\n",
    "N = 10\n",
    "jump_height = 0.5\n",
    "tf = 1/2\n",
    "\n",
    "# Robot Parameters #\n",
    "initial_state = np.zeros(14)\n",
    "q = np.zeros((7,))\n",
    "q[0] = 0; q[1] = 0.95\n",
    "theta = -np.arccos(q[1])\n",
    "q[3] = theta; q[4] = -2 * theta\n",
    "q[5] = theta;   q[6] = -2 * theta\n",
    "initial_state[:7] = q\n",
    "###            ###\n",
    "\n",
    "\n",
    "### Designing the Simulator environment ###\n",
    "meshcat = StartMeshcat()\n",
    "builder = DiagramBuilder()\n",
    "plant, scene_graph = AddMultibodyPlantSceneGraph(builder, 0.0005)\n",
    "X_WG = HalfSpace.MakePose(np.array([0,0, 1]), np.zeros(3,))\n",
    "plant.RegisterCollisionGeometry(plant.world_body(), X_WG, HalfSpace(), \n",
    "    \"collision\", CoulombFriction(1.0, 1.0))\n",
    "parser = Parser(plant)\n",
    "parser.AddModels(file_name)\n",
    "plant.WeldFrames(plant.world_frame(),\n",
    "    plant.GetBodyByName(\"base\").body_frame(),\n",
    "    RigidTransform.Identity())\n",
    "plant.Finalize()\n",
    "\n",
    "### Direct Collocation ###\n",
    "n_q = plant.num_positions()\n",
    "n_v = plant.num_velocities()\n",
    "n_u = plant.num_actuators()\n",
    "x_traj, u_traj, prog,  _, _ = find_throwing_trajectory(N, initial_state, jump_height, tf=tf, jumpheight_tol=5e-2)\n",
    "print(\"Direct Collocation Completed\")\n",
    "\n",
    "### Building the Diagram ###\n",
    "\n",
    "#Connections \n",
    "OSC_Accesor = OSC(file_name)\n",
    "PhaseSwitcher = builder.AddSystem(PhaseSwitch(jump_height, tf, x_traj, 0.4, file_name))\n",
    "OScontroller = builder.AddSystem(OSC_Accesor)\n",
    "logger = LogVectorOutput(OScontroller.GetOutputPort(\"logs\"),builder)\n",
    "builder.Connect(PhaseSwitcher.get_preflight_port_index(),OScontroller.get_preflightinput_port_index())\n",
    "builder.Connect(PhaseSwitcher.get_aerial_trajectory_port_index(),OScontroller.get_flightinput_port_index())\n",
    "builder.Connect(PhaseSwitcher.get_landing_trajectory_port_index(),OScontroller.get_landinginput_port_index())\n",
    "builder.Connect(PhaseSwitcher.get_phase_switch_output_port_index(),OScontroller.get_phase_port_index())\n",
    "builder.Connect(OScontroller.torque_output_port, plant.get_actuation_input_port())\n",
    "builder.Connect(plant.get_state_output_port(), OScontroller.get_state_input_port()) \n",
    "builder.Connect(plant.get_state_output_port(), PhaseSwitcher.get_state_input_port()) \n",
    "\n",
    "#Builld\n",
    "vis_params = MeshcatVisualizerParams(publish_period=0.005)\n",
    "MeshcatVisualizer.AddToBuilder(builder, scene_graph, meshcat, params=vis_params)\n",
    "diagram = builder.Build()\n"
   ]
  },
  {
   "cell_type": "code",
   "execution_count": 2,
   "metadata": {},
   "outputs": [
    {
     "data": {
      "text/plain": [
       "[<matplotlib.lines.Line2D at 0x7fa180b42e90>]"
      ]
     },
     "execution_count": 2,
     "metadata": {},
     "output_type": "execute_result"
    },
    {
     "data": {
      "image/png": "[encoded data removed]",
      "text/plain": [
       "<Figure size 640x480 with 1 Axes>"
      ]
     },
     "metadata": {},
     "output_type": "display_data"
    }
   ],
   "source": [
    "### Real Time Simulation ###\n",
    "sim_time = tf+3\n",
    "simulator = Simulator(diagram)\n",
    "simulator.Initialize(); simulator.set_target_realtime_rate(0.1)\n",
    "plant_context = diagram.GetMutableSubsystemContext(plant, simulator.get_mutable_context())\n",
    "graph = (pydot.graph_from_dot_data(diagram.GetGraphvizString(max_depth=2))[0].create_svg())\n",
    "with open('graph.svg', 'wb') as f:\n",
    "    f.write(graph)\n",
    "\n",
    "timesteps = np.linspace(0, tf, 1000)\n",
    "com_pos_list = []\n",
    "vel_list = []\n",
    "for t in timesteps:\n",
    "  x = x_traj.vector_values([t])\n",
    "  u = np.linalg.norm(u_traj.vector_values([t]))\n",
    "  plant.SetPositionsAndVelocities(plant_context, x)\n",
    "  com_pos = plant.CalcCenterOfMassPositionInWorld(plant_context).ravel()\n",
    "  com_pos_list.append(com_pos)\n",
    "\n",
    "np.save('com.npy', np.array(com_pos_list))\n",
    "plt.plot(np.array(com_pos_list)[:,2])\n"
   ]
  },
  {
   "cell_type": "code",
   "execution_count": 3,
   "metadata": {},
   "outputs": [
    {
     "name": "stderr",
     "output_type": "stream",
     "text": [
      "No traceback available to show.\n"
     ]
    },
    {
     "name": "stdout",
     "output_type": "stream",
     "text": [
      "Solver not working, pal!!!   0.535\n",
      "Solver not working, pal!!!   0.5355\n",
      "Solver not working, pal!!!   0.536\n",
      "Solver not working, pal!!!   0.5365\n",
      "Solver not working, pal!!!   0.5375\n",
      "Solver not working, pal!!!   0.538\n",
      "Solver not working, pal!!!   0.5385\n",
      "Solver not working, pal!!!   0.5485\n",
      "Solver not working, pal!!!   0.549\n",
      "Solver not working, pal!!!   0.5495\n",
      "Solver not working, pal!!!   0.55\n"
     ]
    }
   ],
   "source": [
    "### Go ###\n",
    "%tb\n",
    "sim_time = tf+3\n",
    "simulator = Simulator(diagram)\n",
    "simulator.Initialize(); simulator.set_target_realtime_rate(1.5)\n",
    "plant_context = diagram.GetMutableSubsystemContext(plant, simulator.get_mutable_context())\n",
    "plant.SetPositionsAndVelocities(plant_context, initial_state)\n",
    "simulator.AdvanceTo(tf+4)"
   ]
  },
  {
   "cell_type": "code",
   "execution_count": null,
   "metadata": {},
   "outputs": [
    {
     "ename": "KeyboardInterrupt",
     "evalue": "",
     "output_type": "error",
     "traceback": [
      "\u001b[0;31m---------------------------------------------------------------------------\u001b[0m",
      "\u001b[0;31mKeyboardInterrupt\u001b[0m                         Traceback (most recent call last)",
      "\u001b[1;32m/home/dhruv/Hop-Skip-and-Jump/src_copy/pleaseJump.ipynb Cell 4\u001b[0m line \u001b[0;36m5\n\u001b[1;32m     <a href='vscode-notebook-cell://wsl%2Bubuntu/home/dhruv/Hop-Skip-and-Jump/src_copy/pleaseJump.ipynb#W3sdnNjb2RlLXJlbW90ZQ%3D%3D?line=46'>47</a>\u001b[0m axs[\u001b[39m5\u001b[39m]\u001b[39m.\u001b[39mlegend()\n\u001b[1;32m     <a href='vscode-notebook-cell://wsl%2Bubuntu/home/dhruv/Hop-Skip-and-Jump/src_copy/pleaseJump.ipynb#W3sdnNjb2RlLXJlbW90ZQ%3D%3D?line=48'>49</a>\u001b[0m plt\u001b[39m.\u001b[39mtight_layout()\n\u001b[0;32m---> <a href='vscode-notebook-cell://wsl%2Bubuntu/home/dhruv/Hop-Skip-and-Jump/src_copy/pleaseJump.ipynb#W3sdnNjb2RlLXJlbW90ZQ%3D%3D?line=49'>50</a>\u001b[0m plt\u001b[39m.\u001b[39;49mshow()\n",
      "File \u001b[0;32m~/.local/lib/python3.10/site-packages/matplotlib/pyplot.py:446\u001b[0m, in \u001b[0;36mshow\u001b[0;34m(*args, **kwargs)\u001b[0m\n\u001b[1;32m    402\u001b[0m \u001b[39m\"\"\"\u001b[39;00m\n\u001b[1;32m    403\u001b[0m \u001b[39mDisplay all open figures.\u001b[39;00m\n\u001b[1;32m    404\u001b[0m \n\u001b[0;32m   (...)\u001b[0m\n\u001b[1;32m    443\u001b[0m \u001b[39mexplicitly there.\u001b[39;00m\n\u001b[1;32m    444\u001b[0m \u001b[39m\"\"\"\u001b[39;00m\n\u001b[1;32m    445\u001b[0m _warn_if_gui_out_of_main_thread()\n\u001b[0;32m--> 446\u001b[0m \u001b[39mreturn\u001b[39;00m _get_backend_mod()\u001b[39m.\u001b[39;49mshow(\u001b[39m*\u001b[39;49margs, \u001b[39m*\u001b[39;49m\u001b[39m*\u001b[39;49mkwargs)\n",
      "File \u001b[0;32m~/.local/lib/python3.10/site-packages/matplotlib_inline/backend_inline.py:90\u001b[0m, in \u001b[0;36mshow\u001b[0;34m(close, block)\u001b[0m\n\u001b[1;32m     88\u001b[0m \u001b[39mtry\u001b[39;00m:\n\u001b[1;32m     89\u001b[0m     \u001b[39mfor\u001b[39;00m figure_manager \u001b[39min\u001b[39;00m Gcf\u001b[39m.\u001b[39mget_all_fig_managers():\n\u001b[0;32m---> 90\u001b[0m         display(\n\u001b[1;32m     91\u001b[0m             figure_manager\u001b[39m.\u001b[39;49mcanvas\u001b[39m.\u001b[39;49mfigure,\n\u001b[1;32m     92\u001b[0m             metadata\u001b[39m=\u001b[39;49m_fetch_figure_metadata(figure_manager\u001b[39m.\u001b[39;49mcanvas\u001b[39m.\u001b[39;49mfigure)\n\u001b[1;32m     93\u001b[0m         )\n\u001b[1;32m     94\u001b[0m \u001b[39mfinally\u001b[39;00m:\n\u001b[1;32m     95\u001b[0m     show\u001b[39m.\u001b[39m_to_draw \u001b[39m=\u001b[39m []\n",
      "File \u001b[0;32m~/.local/lib/python3.10/site-packages/IPython/core/display_functions.py:298\u001b[0m, in \u001b[0;36mdisplay\u001b[0;34m(include, exclude, metadata, transient, display_id, raw, clear, *objs, **kwargs)\u001b[0m\n\u001b[1;32m    296\u001b[0m     publish_display_data(data\u001b[39m=\u001b[39mobj, metadata\u001b[39m=\u001b[39mmetadata, \u001b[39m*\u001b[39m\u001b[39m*\u001b[39mkwargs)\n\u001b[1;32m    297\u001b[0m \u001b[39melse\u001b[39;00m:\n\u001b[0;32m--> 298\u001b[0m     format_dict, md_dict \u001b[39m=\u001b[39m \u001b[39mformat\u001b[39;49m(obj, include\u001b[39m=\u001b[39;49minclude, exclude\u001b[39m=\u001b[39;49mexclude)\n\u001b[1;32m    299\u001b[0m     \u001b[39mif\u001b[39;00m \u001b[39mnot\u001b[39;00m format_dict:\n\u001b[1;32m    300\u001b[0m         \u001b[39m# nothing to display (e.g. _ipython_display_ took over)\u001b[39;00m\n\u001b[1;32m    301\u001b[0m         \u001b[39mcontinue\u001b[39;00m\n",
      "File \u001b[0;32m~/.local/lib/python3.10/site-packages/IPython/core/formatters.py:179\u001b[0m, in \u001b[0;36mDisplayFormatter.format\u001b[0;34m(self, obj, include, exclude)\u001b[0m\n\u001b[1;32m    177\u001b[0m md \u001b[39m=\u001b[39m \u001b[39mNone\u001b[39;00m\n\u001b[1;32m    178\u001b[0m \u001b[39mtry\u001b[39;00m:\n\u001b[0;32m--> 179\u001b[0m     data \u001b[39m=\u001b[39m formatter(obj)\n\u001b[1;32m    180\u001b[0m \u001b[39mexcept\u001b[39;00m:\n\u001b[1;32m    181\u001b[0m     \u001b[39m# FIXME: log the exception\u001b[39;00m\n\u001b[1;32m    182\u001b[0m     \u001b[39mraise\u001b[39;00m\n",
      "File \u001b[0;32m<decorator-gen-2>:2\u001b[0m, in \u001b[0;36m__call__\u001b[0;34m(self, obj)\u001b[0m\n",
      "File \u001b[0;32m~/.local/lib/python3.10/site-packages/IPython/core/formatters.py:223\u001b[0m, in \u001b[0;36mcatch_format_error\u001b[0;34m(method, self, *args, **kwargs)\u001b[0m\n\u001b[1;32m    221\u001b[0m \u001b[39m\"\"\"show traceback on failed format call\"\"\"\u001b[39;00m\n\u001b[1;32m    222\u001b[0m \u001b[39mtry\u001b[39;00m:\n\u001b[0;32m--> 223\u001b[0m     r \u001b[39m=\u001b[39m method(\u001b[39mself\u001b[39;49m, \u001b[39m*\u001b[39;49margs, \u001b[39m*\u001b[39;49m\u001b[39m*\u001b[39;49mkwargs)\n\u001b[1;32m    224\u001b[0m \u001b[39mexcept\u001b[39;00m \u001b[39mNotImplementedError\u001b[39;00m:\n\u001b[1;32m    225\u001b[0m     \u001b[39m# don't warn on NotImplementedErrors\u001b[39;00m\n\u001b[1;32m    226\u001b[0m     \u001b[39mreturn\u001b[39;00m \u001b[39mself\u001b[39m\u001b[39m.\u001b[39m_check_return(\u001b[39mNone\u001b[39;00m, args[\u001b[39m0\u001b[39m])\n",
      "File \u001b[0;32m~/.local/lib/python3.10/site-packages/IPython/core/formatters.py:340\u001b[0m, in \u001b[0;36mBaseFormatter.__call__\u001b[0;34m(self, obj)\u001b[0m\n\u001b[1;32m    338\u001b[0m     \u001b[39mpass\u001b[39;00m\n\u001b[1;32m    339\u001b[0m \u001b[39melse\u001b[39;00m:\n\u001b[0;32m--> 340\u001b[0m     \u001b[39mreturn\u001b[39;00m printer(obj)\n\u001b[1;32m    341\u001b[0m \u001b[39m# Finally look for special method names\u001b[39;00m\n\u001b[1;32m    342\u001b[0m method \u001b[39m=\u001b[39m get_real_method(obj, \u001b[39mself\u001b[39m\u001b[39m.\u001b[39mprint_method)\n",
      "File \u001b[0;32m~/.local/lib/python3.10/site-packages/IPython/core/pylabtools.py:152\u001b[0m, in \u001b[0;36mprint_figure\u001b[0;34m(fig, fmt, bbox_inches, base64, **kwargs)\u001b[0m\n\u001b[1;32m    149\u001b[0m     \u001b[39mfrom\u001b[39;00m \u001b[39mmatplotlib\u001b[39;00m\u001b[39m.\u001b[39;00m\u001b[39mbackend_bases\u001b[39;00m \u001b[39mimport\u001b[39;00m FigureCanvasBase\n\u001b[1;32m    150\u001b[0m     FigureCanvasBase(fig)\n\u001b[0;32m--> 152\u001b[0m fig\u001b[39m.\u001b[39;49mcanvas\u001b[39m.\u001b[39;49mprint_figure(bytes_io, \u001b[39m*\u001b[39;49m\u001b[39m*\u001b[39;49mkw)\n\u001b[1;32m    153\u001b[0m data \u001b[39m=\u001b[39m bytes_io\u001b[39m.\u001b[39mgetvalue()\n\u001b[1;32m    154\u001b[0m \u001b[39mif\u001b[39;00m fmt \u001b[39m==\u001b[39m \u001b[39m'\u001b[39m\u001b[39msvg\u001b[39m\u001b[39m'\u001b[39m:\n",
      "File \u001b[0;32m~/.local/lib/python3.10/site-packages/matplotlib/backend_bases.py:2346\u001b[0m, in \u001b[0;36mFigureCanvasBase.print_figure\u001b[0;34m(self, filename, dpi, facecolor, edgecolor, orientation, format, bbox_inches, pad_inches, bbox_extra_artists, backend, **kwargs)\u001b[0m\n\u001b[1;32m   2344\u001b[0m \u001b[39mif\u001b[39;00m bbox_inches:\n\u001b[1;32m   2345\u001b[0m     \u001b[39mif\u001b[39;00m bbox_inches \u001b[39m==\u001b[39m \u001b[39m\"\u001b[39m\u001b[39mtight\u001b[39m\u001b[39m\"\u001b[39m:\n\u001b[0;32m-> 2346\u001b[0m         bbox_inches \u001b[39m=\u001b[39m \u001b[39mself\u001b[39;49m\u001b[39m.\u001b[39;49mfigure\u001b[39m.\u001b[39;49mget_tightbbox(\n\u001b[1;32m   2347\u001b[0m             renderer, bbox_extra_artists\u001b[39m=\u001b[39;49mbbox_extra_artists)\n\u001b[1;32m   2348\u001b[0m         \u001b[39mif\u001b[39;00m pad_inches \u001b[39mis\u001b[39;00m \u001b[39mNone\u001b[39;00m:\n\u001b[1;32m   2349\u001b[0m             pad_inches \u001b[39m=\u001b[39m rcParams[\u001b[39m'\u001b[39m\u001b[39msavefig.pad_inches\u001b[39m\u001b[39m'\u001b[39m]\n",
      "File \u001b[0;32m~/.local/lib/python3.10/site-packages/matplotlib/figure.py:1744\u001b[0m, in \u001b[0;36mFigureBase.get_tightbbox\u001b[0;34m(self, renderer, bbox_extra_artists)\u001b[0m\n\u001b[1;32m   1741\u001b[0m     artists \u001b[39m=\u001b[39m bbox_extra_artists\n\u001b[1;32m   1743\u001b[0m \u001b[39mfor\u001b[39;00m a \u001b[39min\u001b[39;00m artists:\n\u001b[0;32m-> 1744\u001b[0m     bbox \u001b[39m=\u001b[39m a\u001b[39m.\u001b[39;49mget_tightbbox(renderer)\n\u001b[1;32m   1745\u001b[0m     \u001b[39mif\u001b[39;00m bbox \u001b[39mis\u001b[39;00m \u001b[39mnot\u001b[39;00m \u001b[39mNone\u001b[39;00m:\n\u001b[1;32m   1746\u001b[0m         bb\u001b[39m.\u001b[39mappend(bbox)\n",
      "File \u001b[0;32m~/.local/lib/python3.10/site-packages/matplotlib/legend.py:1026\u001b[0m, in \u001b[0;36mLegend.get_tightbbox\u001b[0;34m(self, renderer)\u001b[0m\n\u001b[1;32m   1024\u001b[0m \u001b[39mdef\u001b[39;00m \u001b[39mget_tightbbox\u001b[39m(\u001b[39mself\u001b[39m, renderer\u001b[39m=\u001b[39m\u001b[39mNone\u001b[39;00m):\n\u001b[1;32m   1025\u001b[0m     \u001b[39m# docstring inherited\u001b[39;00m\n\u001b[0;32m-> 1026\u001b[0m     \u001b[39mreturn\u001b[39;00m \u001b[39mself\u001b[39;49m\u001b[39m.\u001b[39;49m_legend_box\u001b[39m.\u001b[39;49mget_window_extent(renderer)\n",
      "File \u001b[0;32m~/.local/lib/python3.10/site-packages/matplotlib/offsetbox.py:402\u001b[0m, in \u001b[0;36mOffsetBox.get_window_extent\u001b[0;34m(self, renderer)\u001b[0m\n\u001b[1;32m    400\u001b[0m bbox \u001b[39m=\u001b[39m \u001b[39mself\u001b[39m\u001b[39m.\u001b[39mget_bbox(renderer)\n\u001b[1;32m    401\u001b[0m \u001b[39mtry\u001b[39;00m:  \u001b[39m# Some subclasses redefine get_offset to take no args.\u001b[39;00m\n\u001b[0;32m--> 402\u001b[0m     px, py \u001b[39m=\u001b[39m \u001b[39mself\u001b[39;49m\u001b[39m.\u001b[39;49mget_offset(bbox, renderer)\n\u001b[1;32m    403\u001b[0m \u001b[39mexcept\u001b[39;00m \u001b[39mTypeError\u001b[39;00m:\n\u001b[1;32m    404\u001b[0m     px, py \u001b[39m=\u001b[39m \u001b[39mself\u001b[39m\u001b[39m.\u001b[39mget_offset()\n",
      "File \u001b[0;32m~/.local/lib/python3.10/site-packages/matplotlib/offsetbox.py:60\u001b[0m, in \u001b[0;36m_compat_get_offset.<locals>.get_offset\u001b[0;34m(self, *args, **kwargs)\u001b[0m\n\u001b[1;32m     56\u001b[0m params \u001b[39m=\u001b[39m _api\u001b[39m.\u001b[39mselect_matching_signature(sigs, \u001b[39mself\u001b[39m, \u001b[39m*\u001b[39margs, \u001b[39m*\u001b[39m\u001b[39m*\u001b[39mkwargs)\n\u001b[1;32m     57\u001b[0m bbox \u001b[39m=\u001b[39m (params[\u001b[39m\"\u001b[39m\u001b[39mbbox\u001b[39m\u001b[39m\"\u001b[39m] \u001b[39mif\u001b[39;00m \u001b[39m\"\u001b[39m\u001b[39mbbox\u001b[39m\u001b[39m\"\u001b[39m \u001b[39min\u001b[39;00m params \u001b[39melse\u001b[39;00m\n\u001b[1;32m     58\u001b[0m         Bbox\u001b[39m.\u001b[39mfrom_bounds(\u001b[39m-\u001b[39mparams[\u001b[39m\"\u001b[39m\u001b[39mxdescent\u001b[39m\u001b[39m\"\u001b[39m], \u001b[39m-\u001b[39mparams[\u001b[39m\"\u001b[39m\u001b[39mydescent\u001b[39m\u001b[39m\"\u001b[39m],\n\u001b[1;32m     59\u001b[0m                          params[\u001b[39m\"\u001b[39m\u001b[39mwidth\u001b[39m\u001b[39m\"\u001b[39m], params[\u001b[39m\"\u001b[39m\u001b[39mheight\u001b[39m\u001b[39m\"\u001b[39m]))\n\u001b[0;32m---> 60\u001b[0m \u001b[39mreturn\u001b[39;00m meth(params[\u001b[39m\"\u001b[39;49m\u001b[39mself\u001b[39;49m\u001b[39m\"\u001b[39;49m], bbox, params[\u001b[39m\"\u001b[39;49m\u001b[39mrenderer\u001b[39;49m\u001b[39m\"\u001b[39;49m])\n",
      "File \u001b[0;32m~/.local/lib/python3.10/site-packages/matplotlib/offsetbox.py:313\u001b[0m, in \u001b[0;36mOffsetBox.get_offset\u001b[0;34m(self, bbox, renderer)\u001b[0m\n\u001b[1;32m    298\u001b[0m \u001b[39m@_compat_get_offset\u001b[39m\n\u001b[1;32m    299\u001b[0m \u001b[39mdef\u001b[39;00m \u001b[39mget_offset\u001b[39m(\u001b[39mself\u001b[39m, bbox, renderer):\n\u001b[1;32m    300\u001b[0m     \u001b[39m\"\"\"\u001b[39;00m\n\u001b[1;32m    301\u001b[0m \u001b[39m    Return the offset as a tuple (x, y).\u001b[39;00m\n\u001b[1;32m    302\u001b[0m \n\u001b[0;32m   (...)\u001b[0m\n\u001b[1;32m    310\u001b[0m \u001b[39m    renderer : `.RendererBase` subclass\u001b[39;00m\n\u001b[1;32m    311\u001b[0m \u001b[39m    \"\"\"\u001b[39;00m\n\u001b[1;32m    312\u001b[0m     \u001b[39mreturn\u001b[39;00m (\n\u001b[0;32m--> 313\u001b[0m         \u001b[39mself\u001b[39;49m\u001b[39m.\u001b[39;49m_offset(bbox\u001b[39m.\u001b[39;49mwidth, bbox\u001b[39m.\u001b[39;49mheight, \u001b[39m-\u001b[39;49mbbox\u001b[39m.\u001b[39;49mx0, \u001b[39m-\u001b[39;49mbbox\u001b[39m.\u001b[39;49my0, renderer)\n\u001b[1;32m    314\u001b[0m         \u001b[39mif\u001b[39;00m callable(\u001b[39mself\u001b[39m\u001b[39m.\u001b[39m_offset)\n\u001b[1;32m    315\u001b[0m         \u001b[39melse\u001b[39;00m \u001b[39mself\u001b[39m\u001b[39m.\u001b[39m_offset)\n",
      "File \u001b[0;32m~/.local/lib/python3.10/site-packages/matplotlib/legend.py:695\u001b[0m, in \u001b[0;36mLegend._findoffset\u001b[0;34m(self, width, height, xdescent, ydescent, renderer)\u001b[0m\n\u001b[1;32m    692\u001b[0m \u001b[39m\"\"\"Helper function to locate the legend.\"\"\"\u001b[39;00m\n\u001b[1;32m    694\u001b[0m \u001b[39mif\u001b[39;00m \u001b[39mself\u001b[39m\u001b[39m.\u001b[39m_loc \u001b[39m==\u001b[39m \u001b[39m0\u001b[39m:  \u001b[39m# \"best\".\u001b[39;00m\n\u001b[0;32m--> 695\u001b[0m     x, y \u001b[39m=\u001b[39m \u001b[39mself\u001b[39;49m\u001b[39m.\u001b[39;49m_find_best_position(width, height, renderer)\n\u001b[1;32m    696\u001b[0m \u001b[39melif\u001b[39;00m \u001b[39mself\u001b[39m\u001b[39m.\u001b[39m_loc \u001b[39min\u001b[39;00m Legend\u001b[39m.\u001b[39mcodes\u001b[39m.\u001b[39mvalues():  \u001b[39m# Fixed location.\u001b[39;00m\n\u001b[1;32m    697\u001b[0m     bbox \u001b[39m=\u001b[39m Bbox\u001b[39m.\u001b[39mfrom_bounds(\u001b[39m0\u001b[39m, \u001b[39m0\u001b[39m, width, height)\n",
      "File \u001b[0;32m~/.local/lib/python3.10/site-packages/matplotlib/legend.py:1140\u001b[0m, in \u001b[0;36mLegend._find_best_position\u001b[0;34m(self, width, height, renderer, consider)\u001b[0m\n\u001b[1;32m   1137\u001b[0m badness \u001b[39m=\u001b[39m \u001b[39m0\u001b[39m\n\u001b[1;32m   1138\u001b[0m \u001b[39m# XXX TODO: If markers are present, it would be good to take them\u001b[39;00m\n\u001b[1;32m   1139\u001b[0m \u001b[39m# into account when checking vertex overlaps in the next line.\u001b[39;00m\n\u001b[0;32m-> 1140\u001b[0m badness \u001b[39m=\u001b[39m (\u001b[39msum\u001b[39;49m(legendBox\u001b[39m.\u001b[39;49mcount_contains(line\u001b[39m.\u001b[39;49mvertices)\n\u001b[1;32m   1141\u001b[0m                \u001b[39mfor\u001b[39;49;00m line \u001b[39min\u001b[39;49;00m lines)\n\u001b[1;32m   1142\u001b[0m            \u001b[39m+\u001b[39m legendBox\u001b[39m.\u001b[39mcount_contains(offsets)\n\u001b[1;32m   1143\u001b[0m            \u001b[39m+\u001b[39m legendBox\u001b[39m.\u001b[39mcount_overlaps(bboxes)\n\u001b[1;32m   1144\u001b[0m            \u001b[39m+\u001b[39m \u001b[39msum\u001b[39m(line\u001b[39m.\u001b[39mintersects_bbox(legendBox, filled\u001b[39m=\u001b[39m\u001b[39mFalse\u001b[39;00m)\n\u001b[1;32m   1145\u001b[0m                  \u001b[39mfor\u001b[39;00m line \u001b[39min\u001b[39;00m lines))\n\u001b[1;32m   1146\u001b[0m \u001b[39mif\u001b[39;00m badness \u001b[39m==\u001b[39m \u001b[39m0\u001b[39m:\n\u001b[1;32m   1147\u001b[0m     \u001b[39mreturn\u001b[39;00m l, b\n",
      "File \u001b[0;32m~/.local/lib/python3.10/site-packages/matplotlib/legend.py:1140\u001b[0m, in \u001b[0;36m<genexpr>\u001b[0;34m(.0)\u001b[0m\n\u001b[1;32m   1137\u001b[0m badness \u001b[39m=\u001b[39m \u001b[39m0\u001b[39m\n\u001b[1;32m   1138\u001b[0m \u001b[39m# XXX TODO: If markers are present, it would be good to take them\u001b[39;00m\n\u001b[1;32m   1139\u001b[0m \u001b[39m# into account when checking vertex overlaps in the next line.\u001b[39;00m\n\u001b[0;32m-> 1140\u001b[0m badness \u001b[39m=\u001b[39m (\u001b[39msum\u001b[39m(legendBox\u001b[39m.\u001b[39;49mcount_contains(line\u001b[39m.\u001b[39;49mvertices)\n\u001b[1;32m   1141\u001b[0m                \u001b[39mfor\u001b[39;00m line \u001b[39min\u001b[39;00m lines)\n\u001b[1;32m   1142\u001b[0m            \u001b[39m+\u001b[39m legendBox\u001b[39m.\u001b[39mcount_contains(offsets)\n\u001b[1;32m   1143\u001b[0m            \u001b[39m+\u001b[39m legendBox\u001b[39m.\u001b[39mcount_overlaps(bboxes)\n\u001b[1;32m   1144\u001b[0m            \u001b[39m+\u001b[39m \u001b[39msum\u001b[39m(line\u001b[39m.\u001b[39mintersects_bbox(legendBox, filled\u001b[39m=\u001b[39m\u001b[39mFalse\u001b[39;00m)\n\u001b[1;32m   1145\u001b[0m                  \u001b[39mfor\u001b[39;00m line \u001b[39min\u001b[39;00m lines))\n\u001b[1;32m   1146\u001b[0m \u001b[39mif\u001b[39;00m badness \u001b[39m==\u001b[39m \u001b[39m0\u001b[39m:\n\u001b[1;32m   1147\u001b[0m     \u001b[39mreturn\u001b[39;00m l, b\n",
      "File \u001b[0;32m~/.local/lib/python3.10/site-packages/matplotlib/transforms.py:594\u001b[0m, in \u001b[0;36mBboxBase.count_contains\u001b[0;34m(self, vertices)\u001b[0m\n\u001b[1;32m    591\u001b[0m vertices \u001b[39m=\u001b[39m np\u001b[39m.\u001b[39masarray(vertices)\n\u001b[1;32m    592\u001b[0m \u001b[39mwith\u001b[39;00m np\u001b[39m.\u001b[39merrstate(invalid\u001b[39m=\u001b[39m\u001b[39m'\u001b[39m\u001b[39mignore\u001b[39m\u001b[39m'\u001b[39m):\n\u001b[1;32m    593\u001b[0m     \u001b[39mreturn\u001b[39;00m (((\u001b[39mself\u001b[39m\u001b[39m.\u001b[39mmin \u001b[39m<\u001b[39m vertices) \u001b[39m&\u001b[39m\n\u001b[0;32m--> 594\u001b[0m              (vertices \u001b[39m<\u001b[39m \u001b[39mself\u001b[39;49m\u001b[39m.\u001b[39;49mmax))\u001b[39m.\u001b[39mall(axis\u001b[39m=\u001b[39m\u001b[39m1\u001b[39m)\u001b[39m.\u001b[39msum())\n",
      "File \u001b[0;32m~/.local/lib/python3.10/site-packages/matplotlib/transforms.py:338\u001b[0m, in \u001b[0;36mBboxBase.max\u001b[0;34m(self)\u001b[0m\n\u001b[1;32m    335\u001b[0m     \u001b[39m\"\"\"The bottom-left corner of the bounding box.\"\"\"\u001b[39;00m\n\u001b[1;32m    336\u001b[0m     \u001b[39mreturn\u001b[39;00m np\u001b[39m.\u001b[39mmin(\u001b[39mself\u001b[39m\u001b[39m.\u001b[39mget_points(), axis\u001b[39m=\u001b[39m\u001b[39m0\u001b[39m)\n\u001b[0;32m--> 338\u001b[0m \u001b[39m@property\u001b[39m\n\u001b[1;32m    339\u001b[0m \u001b[39mdef\u001b[39;00m \u001b[39mmax\u001b[39m(\u001b[39mself\u001b[39m):\n\u001b[1;32m    340\u001b[0m     \u001b[39m\"\"\"The top-right corner of the bounding box.\"\"\"\u001b[39;00m\n\u001b[1;32m    341\u001b[0m     \u001b[39mreturn\u001b[39;00m np\u001b[39m.\u001b[39mmax(\u001b[39mself\u001b[39m\u001b[39m.\u001b[39mget_points(), axis\u001b[39m=\u001b[39m\u001b[39m0\u001b[39m)\n",
      "\u001b[0;31mKeyboardInterrupt\u001b[0m: "
     ]
    }
   ],
   "source": [
    "import matplotlib.pyplot as plt\n",
    "import numpy as np\n",
    "log = logger.FindLog(simulator.get_mutable_context()) #xyz vxvyvz\n",
    "t = log.sample_times()\n",
    "x = log.data()[:,1:]\n",
    "\n",
    "COM_POS, COM_VEL, T_POS, T_VEL, left, right, COM_POS_DESIRED, COM_VEL_DESIRED, Torso_POS_DESIRED, Torso_VEL_DESIRED, Ft_POS_DESIRED, Ft_POS_DESIRED =  OSC_Accesor.logParse(x)\n",
    "\n",
    "# Function to create subplots for 3D data\n",
    "def plot_3d_data(ax, data, label, linestyle='-'):\n",
    "    ax.plot(data[0, :], label=f'{label} - X', linestyle=linestyle)\n",
    "    ax.plot(data[1, :], label=f'{label} - Y', linestyle=linestyle)\n",
    "    ax.plot(data[2, :], label=f'{label} - Z', linestyle=linestyle)\n",
    "\n",
    "# Create subplots\n",
    "fig, axs = plt.subplots(6, 1, figsize=(10, 20))\n",
    "\n",
    "# Plotting each pair of actual and desired values\n",
    "plot_3d_data(axs[0], COM_POS, 'COM_POS')\n",
    "plot_3d_data(axs[0], COM_POS_DESIRED, 'COM_POS_DESIRED', '--')\n",
    "axs[0].set_title('Center of Mass Position')\n",
    "axs[0].legend()\n",
    "\n",
    "plot_3d_data(axs[1], COM_VEL, 'COM_POS')\n",
    "plot_3d_data(axs[1], COM_VEL_DESIRED, 'COM_POS_DESIRED', '--')\n",
    "axs[1].set_title('Center of Mass Velocity')\n",
    "axs[1].legend()\n",
    "\n",
    "axs[2].plot(T_POS[0], label = 'T_POS')\n",
    "axs[2].plot(Torso_POS_DESIRED[0], label='Torso_POS_DESIRED', linestyle='--')\n",
    "axs[2].set_title('Torso Position')\n",
    "axs[2].legend()\n",
    "\n",
    "axs[3].plot(T_VEL[0], label='T_VEL')\n",
    "axs[3].plot(Torso_VEL_DESIRED[0], label='Torso_VEL_DESIRED', linestyle='--')\n",
    "axs[3].set_title('Torso Velocity')\n",
    "axs[3].legend()\n",
    "\n",
    "plot_3d_data(axs[4], left, 'Left')\n",
    "# plot_3d_data(axs[4], Ft_POS_DESIRED, 'Ft_POS_DESIRED', '--')\n",
    "axs[4].set_title('Left and Desired Foot Position')\n",
    "axs[4].legend()\n",
    "\n",
    "plot_3d_data(axs[5], right, 'Right')\n",
    "# plot_3d_data(axs[5], Ft_POS_DESIRED, 'Ft_POS_DESIRED', '--')\n",
    "axs[5].set_title('Right and Desired Foot Position')\n",
    "axs[5].legend()\n",
    "\n",
    "plt.tight_layout()\n",
    "plt.show()\n"
   ]
  }
 ],
 "metadata": {
  "kernelspec": {
   "display_name": "Python 3",
   "language": "python",
   "name": "python3"
  },
  "language_info": {
   "codemirror_mode": {
    "name": "ipython",
    "version": 3
   },
   "file_extension": ".py",
   "mimetype": "text/x-python",
   "name": "python",
   "nbconvert_exporter": "python",
   "pygments_lexer": "ipython3",
   "version": "3.10.12"
  }
 },
 "nbformat": 4,
 "nbformat_minor": 2
}
